{
 "cells": [
  {
   "cell_type": "code",
   "execution_count": 4,
   "id": "35d2a4de-04b8-4d2c-a788-a63709796c2f",
   "metadata": {},
   "outputs": [],
   "source": [
    "import pandas as pd\n",
    "import os\n",
    "from Bio import SeqIO\n",
    "import gzip\n",
    "import sys"
   ]
  },
  {
   "cell_type": "code",
   "execution_count": 6,
   "id": "5f691fe6-bdbd-48b9-b50b-683638a3b3c3",
   "metadata": {},
   "outputs": [],
   "source": [
    "UNIPROT_RELEASE_URL = 'https://ftp.uniprot.org/pub/databases/uniprot/current_release'\n",
    "SWISSPROT_FASTA_URL = UNIPROT_RELEASE_URL + '/knowledgebase/complete/uniprot_sprot.fasta.gz'\n",
    "SWISSPROT_PATH = '../../work/raw/uniprot_sprot.fasta.gz'\n",
    "HUMAN_SWISSPROT_PATH = '../../promb/resources/uniprot_sprot_human.fasta.gz'"
   ]
  },
  {
   "cell_type": "code",
   "execution_count": 9,
   "id": "c0872aaa-5916-4926-9239-99a254586bf9",
   "metadata": {},
   "outputs": [],
   "source": [
    "mkdir -p ../../work/raw"
   ]
  },
  {
   "cell_type": "code",
   "execution_count": 7,
   "id": "4f087fa4-4904-4a24-b7e3-f473c55e56a2",
   "metadata": {},
   "outputs": [
    {
     "name": "stdout",
     "output_type": "stream",
     "text": [
      "UniProt Release 2025_01\n",
      "\n",
      "The UniProt consortium European Bioinformatics Institute (EBI), SIB Swiss \n",
      "Institute of Bioinformatics and Protein Information Resource (PIR), \n",
      "is pleased to announce UniProt Knowledgebase (UniProtKB) Release \n",
      "2025_01 (05-Feb-2025). UniProt (Universal Protein Resource) is a \n",
      "comprehensive catalog of information on proteins.\n",
      "\n",
      "UniProtKB Release 2025_01 consists of 253,206,171 entries (UniProtKB/Swiss-Prot: \n",
      "572,970 entries and UniProtKB/TrEMBL: 252,633,201 entries)\n",
      "UniRef100 Release 2025_01 consists of 453,950,711 entries\n",
      "UniRef90 Release 2025_01 consists of 204,806,910 entries\n",
      "UniRef50 Release 2025_01 consists of 69,290,910 entries\n",
      "UniParc Release 2025_01 consists of 916,871,247 entries, where 852,312,545 are active and 64,558,702 inactive\n",
      "UniProt databases can be accessed from the web at http://www.uniprot.org and \n",
      "downloaded from http://www.uniprot.org/downloads. Detailed release \n",
      "statistics for TrEMBL and Swiss-Prot sections of the UniProt Knowledgebase \n",
      "can be viewed at http://www.ebi.ac.uk/uniprot/TrEMBLstats/ and \n",
      "http://web.expasy.org/docs/relnotes/relstat.html respectively.\n"
     ]
    }
   ],
   "source": [
    "!curl -s {UNIPROT_RELEASE_URL}/relnotes.txt"
   ]
  },
  {
   "cell_type": "code",
   "execution_count": 10,
   "id": "250ed537-587e-471e-9af6-95f869ea969d",
   "metadata": {},
   "outputs": [
    {
     "name": "stdout",
     "output_type": "stream",
     "text": [
      "Fri Apr 18 13:09:44 CEST 2025\n",
      "--2025-04-18 13:09:44--  https://ftp.uniprot.org/pub/databases/uniprot/current_release/knowledgebase/complete/uniprot_sprot.fasta.gz\n",
      "Resolving ftp.uniprot.org (ftp.uniprot.org)... 128.175.240.195\n",
      "Connecting to ftp.uniprot.org (ftp.uniprot.org)|128.175.240.195|:443... connected.\n",
      "HTTP request sent, awaiting response... 200 OK\n",
      "Length: 92924866 (89M) [application/x-gzip]\n",
      "Saving to: ‘../../work/raw/uniprot_sprot.fasta.gz’\n",
      "\n",
      "../../work/raw/unip 100%[===================>]  88,62M  1,93MB/s    in 33s     \n",
      "\n",
      "2025-04-18 13:10:18 (2,69 MB/s) - ‘../../work/raw/uniprot_sprot.fasta.gz’ saved [92924866/92924866]\n",
      "\n"
     ]
    }
   ],
   "source": [
    "!date\n",
    "!wget -O {SWISSPROT_PATH} {SWISSPROT_FASTA_URL}"
   ]
  },
  {
   "cell_type": "code",
   "execution_count": 19,
   "id": "fdf760e0-bbb9-4762-9964-b719b4235d93",
   "metadata": {},
   "outputs": [],
   "source": [
    "# Extract human proteins (OX=9606)\n",
    "with gzip.open(HUMAN_SWISSPROT_PATH, 'wt') as w:\n",
    "    with gzip.open(SWISSPROT_PATH, 'rt') as f:\n",
    "        for record in SeqIO.parse(f, 'fasta'):\n",
    "            if ' OX=9606 ' in record.description:\n",
    "                SeqIO.write(record, w, 'fasta')"
   ]
  },
  {
   "cell_type": "code",
   "execution_count": 20,
   "id": "350bf882-5a4c-4eed-81d8-25a09560e6fe",
   "metadata": {},
   "outputs": [
    {
     "name": "stdout",
     "output_type": "stream",
     "text": [
      "-rw-r--r--  1 prihodad  staff   6.6M Apr 18 13:25 ../../promb/resources/uniprot_sprot_human.fasta.gz\n"
     ]
    }
   ],
   "source": [
    "!ls -lh {HUMAN_SWISSPROT_PATH}"
   ]
  },
  {
   "cell_type": "code",
   "execution_count": 21,
   "id": "075e7e73-0284-4030-8147-514b5e6471a9",
   "metadata": {},
   "outputs": [
    {
     "name": "stdout",
     "output_type": "stream",
     "text": [
      ">sp|P31946|1433B_HUMAN 14-3-3 protein beta/alpha OS=Homo sapiens OX=9606 GN=YWHAB PE=1 SV=3\n",
      "MTMDKSELVQKAKLAEQAERYDDMAAAMKAVTEQGHELSNEERNLLSVAYKNVVGARRSS\n",
      "WRVISSIEQKTERNEKKQQMGKEYREKIEAELQDICNDVLELLDKYLIPNATQPESKVFY\n",
      "LKMKGDYFRYLSEVASGDNKQTTVSNSQQAYQEAFEISKKEMQPTHPIRLGLALNFSVFY\n",
      "YEILNSPEKACSLAKTAFDEAIAELDTLNEESYKDSTLIMQLLRDNLTLWTSENQGDEGD\n",
      "AGEGEN\n",
      ">sp|P62258|1433E_HUMAN 14-3-3 protein epsilon OS=Homo sapiens OX=9606 GN=YWHAE PE=1 SV=1\n",
      "MDDREDLVYQAKLAEQAERYDEMVESMKKVAGMDVELTVEERNLLSVAYKNVIGARRASW\n",
      "RIISSIEQKEENKGGEDKLKMIREYRQMVETELKLICCDILDVLDKHLIPAANTGESKVF\n",
      "YYKMKGDYHRYLAEFATGNDRKEAAENSLVAYKAASDIAMTELPPTHPIRLGLALNFSVF\n",
      "gunzip: error writing to output: Broken pipe\n",
      "gunzip: ../../promb/resources/uniprot_sprot_human.fasta.gz: uncompress failed\n"
     ]
    }
   ],
   "source": [
    "!gunzip -c {HUMAN_SWISSPROT_PATH} | head -10"
   ]
  },
  {
   "cell_type": "code",
   "execution_count": 14,
   "id": "25422a48-61df-4d49-8cbb-ae53c6358c13",
   "metadata": {},
   "outputs": [
    {
     "name": "stdout",
     "output_type": "stream",
     "text": [
      "   20417\n"
     ]
    }
   ],
   "source": [
    "!gunzip -c {HUMAN_SWISSPROT_PATH} | grep \"^>\" | wc -l"
   ]
  },
  {
   "cell_type": "code",
   "execution_count": 15,
   "id": "25937a4d-616f-460e-a8af-a2fd3fd08fc2",
   "metadata": {},
   "outputs": [],
   "source": [
    "# check that all headers contain _HUMAN\n",
    "!gunzip -c {HUMAN_SWISSPROT_PATH} | grep \"^>\" | grep -v \"_HUMAN\""
   ]
  },
  {
   "cell_type": "code",
   "execution_count": 18,
   "id": "1297c3c4-da49-492f-b0e0-bd17ee2dcd25",
   "metadata": {},
   "outputs": [
    {
     "name": "stdout",
     "output_type": "stream",
     "text": [
      "total 123552\n",
      "-rw-r--r--  1 prihodad  staff    13M Feb 14 13:58 OASis_9mers_v1_10perc_subjects.txt.gz\n",
      "-rw-r--r--  1 prihodad  staff   6.6M Apr 18 13:10 uniprot_sprot_human.fasta.gz\n",
      "-rw-r--r--  1 prihodad  staff    40M Feb 14 13:58 uniprot_sprot_human_9mers_2024_04.txt.gz\n"
     ]
    }
   ],
   "source": [
    "!ls -lh ../../promb/resources"
   ]
  },
  {
   "cell_type": "code",
   "execution_count": null,
   "id": "e4ab24c8-187a-400d-9d8e-84b2e8ff8808",
   "metadata": {},
   "outputs": [],
   "source": []
  }
 ],
 "metadata": {
  "kernelspec": {
   "display_name": "Python 3 (ipykernel)",
   "language": "python",
   "name": "python3"
  },
  "language_info": {
   "codemirror_mode": {
    "name": "ipython",
    "version": 3
   },
   "file_extension": ".py",
   "mimetype": "text/x-python",
   "name": "python",
   "nbconvert_exporter": "python",
   "pygments_lexer": "ipython3",
   "version": "3.11.11"
  }
 },
 "nbformat": 4,
 "nbformat_minor": 5
}
