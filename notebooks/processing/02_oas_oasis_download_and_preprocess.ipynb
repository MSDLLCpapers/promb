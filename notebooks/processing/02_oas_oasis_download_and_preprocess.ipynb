{
 "cells": [
  {
   "cell_type": "code",
   "execution_count": 2,
   "id": "cb3a40a6-770c-476f-a078-9d42c45c76be",
   "metadata": {},
   "outputs": [],
   "source": [
    "import argparse\n",
    "import gzip\n",
    "import json\n",
    "import os\n",
    "import time\n",
    "import sys\n",
    "\n",
    "from sqlalchemy import create_engine, text"
   ]
  },
  {
   "cell_type": "code",
   "execution_count": 3,
   "id": "3c7f3dcd-3863-410b-8be3-bdc0a5674884",
   "metadata": {},
   "outputs": [],
   "source": [
    "OASIS_DB_DIR = '../../work/'\n",
    "OASIS_DB_NAME = 'OASis_9mers_v1.db'\n",
    "OASIS_DB_PATH = OASIS_DB_DIR + '/' + OASIS_DB_NAME"
   ]
  },
  {
   "cell_type": "code",
   "execution_count": 4,
   "id": "20d09564-aa2e-4eba-8005-913c8903a8d7",
   "metadata": {},
   "outputs": [],
   "source": [
    "OUTPUT_OASIS_9MERS_PATH = '../../promb/resources/OASis_9mers_v1_10perc_subjects.txt.gz'"
   ]
  },
  {
   "cell_type": "code",
   "execution_count": 19,
   "id": "4d189fa7-13f3-4ebe-a91f-efeb8cec7678",
   "metadata": {},
   "outputs": [],
   "source": [
    "MIN_PERCENT_SUBJECTS = 10"
   ]
  },
  {
   "cell_type": "code",
   "execution_count": 13,
   "id": "f69b96f8-258f-48b1-9096-76b44d662cfc",
   "metadata": {},
   "outputs": [],
   "source": [
    "# Download database file\n",
    "#!wget -O {OASIS_DB_DIR}/{OASIS_DB_NAME}.gz https://zenodo.org/record/5164685/files/OASis_9mers_v1.db.gz\n",
    "# Unzip\n",
    "#cd {OASIS_DB_DIR}; gunzip {OASIS_DB_NAME}.gz"
   ]
  },
  {
   "cell_type": "code",
   "execution_count": 14,
   "id": "fcc55ac9-68dc-4c70-b45d-7c1edce14a6a",
   "metadata": {},
   "outputs": [],
   "source": [
    "engine = create_engine('sqlite:///' + os.path.abspath(OASIS_DB_PATH))"
   ]
  },
  {
   "cell_type": "code",
   "execution_count": 20,
   "id": "caa7edf8-36a0-42c6-8ee1-23097263999f",
   "metadata": {},
   "outputs": [
    {
     "name": "stdout",
     "output_type": "stream",
     "text": [
      "Min heavy subjects:  22.4\n",
      "Min light subjects:  15.4\n"
     ]
    }
   ],
   "source": [
    "with engine.connect() as conn:\n",
    "    heavy_subject_ids = [int(row[0]) for row in conn.execute(\n",
    "        text(\"SELECT id FROM subjects WHERE CompleteHeavySeqs >= 10000 AND subjects.StudyPath <> 'Corcoran_2016'\")\n",
    "    ).fetchall()]\n",
    "    \n",
    "    light_subject_ids = [int(row[0]) for row in conn.execute(\n",
    "        text(\"SELECT id FROM subjects WHERE CompleteLightSeqs >= 10000 AND subjects.StudyPath <> 'Corcoran_2016'\")\n",
    "    ).fetchall()]\n",
    "    \n",
    "    min_heavy_subjects = len(heavy_subject_ids) * MIN_PERCENT_SUBJECTS / 100\n",
    "    min_light_subjects = len(light_subject_ids) * MIN_PERCENT_SUBJECTS / 100\n",
    "\n",
    "print('Min heavy subjects: ', min_heavy_subjects)\n",
    "print('Min light subjects: ', min_light_subjects)"
   ]
  },
  {
   "cell_type": "code",
   "execution_count": 22,
   "id": "7d6d1a56-5b8e-48e5-83f1-5c3c214a6461",
   "metadata": {},
   "outputs": [
    {
     "data": {
      "text/plain": [
       "15.4"
      ]
     },
     "execution_count": 22,
     "metadata": {},
     "output_type": "execute_result"
    }
   ],
   "source": [
    "min_subjects = min(min_heavy_subjects, min_light_subjects)\n",
    "min_subjects"
   ]
  },
  {
   "cell_type": "code",
   "execution_count": 21,
   "id": "4a18ba31-7c68-40e3-93ba-c649805d664a",
   "metadata": {},
   "outputs": [
    {
     "data": {
      "text/plain": [
       "230"
      ]
     },
     "execution_count": 21,
     "metadata": {},
     "output_type": "execute_result"
    }
   ],
   "source": [
    "subject_ids = sorted(set(heavy_subject_ids) | set(light_subject_ids))\n",
    "len(subject_ids)"
   ]
  },
  {
   "cell_type": "code",
   "execution_count": 23,
   "id": "2a6dade0-a004-40b7-b952-227294b1278c",
   "metadata": {},
   "outputs": [
    {
     "name": "stdout",
     "output_type": "stream",
     "text": [
      "Loading peptides...\n",
      "Loaded 5,725,303 peptides\n",
      "CPU times: user 3min 40s, sys: 46 s, total: 4min 26s\n",
      "Wall time: 5min 30s\n"
     ]
    }
   ],
   "source": [
    "%%time\n",
    "\n",
    "with engine.connect() as conn:\n",
    "    print('Loading peptides...')\n",
    "    peptides = [row[0] for row in conn.execute(text(\n",
    "        f'SELECT peptide, COUNT(peptide) as num_subjects '\n",
    "        f'FROM peptides WHERE peptides.subject IN ({\",\".join(map(str, subject_ids))}) '\n",
    "        f'GROUP BY peptide HAVING num_subjects > {min_subjects}'\n",
    "    )).fetchall()]\n",
    "    print(f'Loaded {len(peptides):,} peptides')"
   ]
  },
  {
   "cell_type": "code",
   "execution_count": 27,
   "id": "9661abae-d996-408d-a748-fe9cb14c06d0",
   "metadata": {},
   "outputs": [
    {
     "name": "stdout",
     "output_type": "stream",
     "text": [
      "47 MB\n"
     ]
    }
   ],
   "source": [
    "print(int(sys.getsizeof(peptides)/1024/1024), 'MB')"
   ]
  },
  {
   "cell_type": "code",
   "execution_count": 28,
   "id": "f89b68ba-9a5a-48b2-add5-8f7825a17a62",
   "metadata": {},
   "outputs": [],
   "source": [
    "with gzip.open(OUTPUT_OASIS_9MERS_PATH, 'wt') as f:\n",
    "    for peptide in sorted(peptides):\n",
    "        f.write(peptide)\n",
    "        f.write('\\n')"
   ]
  },
  {
   "cell_type": "code",
   "execution_count": 5,
   "id": "351662b5-9e72-4aac-b15b-745a3ed1b959",
   "metadata": {},
   "outputs": [
    {
     "name": "stdout",
     "output_type": "stream",
     "text": [
      "-rw-r--r--  1 prihodad  staff    13M Feb 14 13:58 ../../promb/resources/OASis_9mers_v1_10perc_subjects.txt.gz\n"
     ]
    }
   ],
   "source": [
    "!ls -lh {OUTPUT_OASIS_9MERS_PATH}"
   ]
  },
  {
   "cell_type": "code",
   "execution_count": 6,
   "id": "2316e4af-9df9-4fb8-b9ea-f98ba0867199",
   "metadata": {},
   "outputs": [
    {
     "name": "stdout",
     "output_type": "stream",
     "text": [
      "AAAAAAVYY\n",
      "AAAAADAFD\n",
      "AAAAADTAV\n",
      "AAAAADYWG\n",
      "AAAAAFDIW\n",
      "AAAAAFDYW\n",
      "AAAAAIYYC\n",
      "AAAAALDYW\n",
      "AAAAALYYC\n",
      "AAAAAVDYC\n",
      "gunzip: error writing to output: Broken pipe\n",
      "gunzip: ../../promb/resources/OASis_9mers_v1_10perc_subjects.txt.gz: uncompress failed\n"
     ]
    }
   ],
   "source": [
    "!gunzip -c {OUTPUT_OASIS_9MERS_PATH} | head"
   ]
  },
  {
   "cell_type": "code",
   "execution_count": null,
   "id": "80052fa9-2477-4c45-98d0-522a7fdcb816",
   "metadata": {},
   "outputs": [],
   "source": []
  }
 ],
 "metadata": {
  "kernelspec": {
   "display_name": "Python 3 (ipykernel)",
   "language": "python",
   "name": "python3"
  },
  "language_info": {
   "codemirror_mode": {
    "name": "ipython",
    "version": 3
   },
   "file_extension": ".py",
   "mimetype": "text/x-python",
   "name": "python",
   "nbconvert_exporter": "python",
   "pygments_lexer": "ipython3",
   "version": "3.11.11"
  }
 },
 "nbformat": 4,
 "nbformat_minor": 5
}
